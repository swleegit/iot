{
 "cells": [
  {
   "cell_type": "markdown",
   "id": "41fd067f",
   "metadata": {},
   "source": [
    "귀도반 로썸 c언어 1991 초보자가 사용하기 쉽게"
   ]
  },
  {
   "cell_type": "markdown",
   "id": "f46500f4",
   "metadata": {},
   "source": [
    "# 파이썬 특징 \n",
    "- \n",
    "컴파일 방식 파일 전체를 기계어로 실행중에 기계어로 변형 \n",
    "\n",
    "컴파일 방식 \n",
    "하나의 파일, 여러개의 파일을 동시에 기계어로 번역 \n",
    "\n",
    "1. 무료\n",
    "- 외부 라이브러리 풍부\n",
    "- iot, bigdata, ai\n",
    "- gui\n",
    "1. 홈페이지와 관련된 framework을 제공한다. 홈페이지 관련 기반틀을 만들어 준다.\n",
    "1. 인터프리터 언어 \n",
    "1. 읽기 쉽고 쓰기 쉽다.(다른 언어에 비해서)\n",
    "1. 플랫폼(컴퓨터와 관련되어진 운영체제)의 특성을 타지 않는다. \n"
   ]
  },
  {
   "cell_type": "markdown",
   "id": "50b08a96",
   "metadata": {},
   "source": [
    "# 변수\n",
    "- 실행 중에 변할 수 있는 값 <-> 상수 : 실행 중에 변할 수 없는 값.\n",
    "- 참조형 변수 : 주소에 해당하는 모든 것들을 지칭함.\n",
    "    ex)set, tuple, list, dict\n",
    "- 변수 : 값을 할당 : 특정적.\n",
    "- python에서 변수의 자료형은 가장 마지막에 할당된 값의 자료형을 따른다.\n"
   ]
  },
  {
   "cell_type": "markdown",
   "id": "46ca48ec",
   "metadata": {},
   "source": [
    "# 변수 작명법\n",
    "1. 의미 있는 단어의 조합 \n",
    "1. 한글, 영어(대, 소 구분), 영어 권장, 파일이름 또는 변수명이 한글이면 os별로 문제 발생 가능함 .\n",
    "1. 특수문자 사용 불가 (단, _ 가능)\n",
    "1. 숫자 사용 불가 (단, 첫자리만 사용불가)\n",
    "1. 공백 사용 불가\n",
    "1. 키워드(=예약어) 사용불가 \n",
    "\n",
    "- 변수 작명법은 개개인의 스타일이 있지만 '변수'는 앞 단어는 소문자로 시작하고 뒷 단어 첫글자는 대문자로 시작하는거 추천 .\n",
    "\n",
    "- 변수가 길어질수록 오타 가능성 높아짐!\n",
    "- 약어는 되도록이면 대문자로 쓰자! \n",
    "- 상수는 변수명 작명법을 따르되 관례대로 모두 대문자로 한다. "
   ]
  },
  {
   "cell_type": "code",
   "execution_count": null,
   "id": "52300b7d",
   "metadata": {},
   "outputs": [],
   "source": [
    "#정수형 변수 작명법 \n",
    "numV = 5\n",
    "numValue = 5\n",
    "numVal = 5 #단어 생략 ok"
   ]
  },
  {
   "cell_type": "code",
   "execution_count": null,
   "id": "91153f1f",
   "metadata": {},
   "outputs": [],
   "source": [
    "#한국공학대학교 학과를 나타내는 변수 \n",
    "tukoreaMaj = \"Mechanical Engineering\"\n",
    "tukMaj = \"Mechanical Engineering\""
   ]
  },
  {
   "cell_type": "code",
   "execution_count": null,
   "id": "801949bb",
   "metadata": {},
   "outputs": [],
   "source": [
    "#상수를 나타내는 변수\n",
    "TUKMAJ = \"Mechanical Engineering\"\n",
    "\n",
    "#변수와 상수를 구분하기 위함임.\n"
   ]
  }
 ],
 "metadata": {
  "kernelspec": {
   "display_name": "Python 3 (ipykernel)",
   "language": "python",
   "name": "python3"
  },
  "language_info": {
   "codemirror_mode": {
    "name": "ipython",
    "version": 3
   },
   "file_extension": ".py",
   "mimetype": "text/x-python",
   "name": "python",
   "nbconvert_exporter": "python",
   "pygments_lexer": "ipython3",
   "version": "3.9.12"
  }
 },
 "nbformat": 4,
 "nbformat_minor": 5
}
