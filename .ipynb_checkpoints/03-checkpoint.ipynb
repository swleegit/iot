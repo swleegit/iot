{
 "cells": [
  {
   "attachments": {
    "image.png": {
     "image/png": "[encoded data removed]"
    }
   },
   "cell_type": "markdown",
   "id": "011916ea",
   "metadata": {},
   "source": [
    "![image.png](attachment:image.png)\n",
    "- 마지막 줄에 어떤 에러인지를 확인하고\n",
    "- 그 위에 몇 번 줄에서 에러가 발생했는지 확인해서 버그 수정한다.\n"
   ]
  },
  {
   "cell_type": "markdown",
   "id": "40f579c1",
   "metadata": {},
   "source": [
    "- python에서 입력은 input 출력은 print를 사용한다. 이는 언어마다 다르다\n",
    "- 한글은 2바이트차지 영어는 1바이트차지\n",
    "- 파이썬은 문자와 문자열의 차이가 없다. 다 문자열로 취급\n",
    "- '' 또는 \"\" 사용, 서로 매칭해야한다.\n",
    "- print()처럼 소괄호를 사용한 것은 함수 = function = method\n",
    "- 함수는 누군가 만든 것을 호출해서 사용하며 가장 마지막의 반환값만 반환한다."
   ]
  },
  {
   "cell_type": "code",
   "execution_count": 1,
   "id": "5706826f",
   "metadata": {},
   "outputs": [
    {
     "name": "stdout",
     "output_type": "stream",
     "text": [
      "이승우\n"
     ]
    }
   ],
   "source": [
    "print(\"이승우\")"
   ]
  },
  {
   "cell_type": "code",
   "execution_count": 10,
   "id": "91a4ccb8",
   "metadata": {},
   "outputs": [
    {
     "name": "stdout",
     "output_type": "stream",
     "text": [
      "-23\n"
     ]
    }
   ],
   "source": [
    "print(7-8*5+10) #interpreter입력과 동시에 실행 가능하다. (인터프리터 언어), 컴파일방식과 인터프리터 방식의 차이\n",
    "                \n",
    "    "
   ]
  },
  {
   "cell_type": "code",
   "execution_count": 11,
   "id": "60eee855",
   "metadata": {},
   "outputs": [
    {
     "data": {
      "text/plain": [
       "-23"
      ]
     },
     "execution_count": 11,
     "metadata": {},
     "output_type": "execute_result"
    }
   ],
   "source": [
    "7-8*5+10 #수식은 결과가 하나인게 명확하기에 print를 하지 않아도 좋다."
   ]
  },
  {
   "cell_type": "code",
   "execution_count": 4,
   "id": "588bac45",
   "metadata": {},
   "outputs": [
    {
     "data": {
      "text/plain": [
       "'이승우'"
      ]
     },
     "execution_count": 4,
     "metadata": {},
     "output_type": "execute_result"
    }
   ],
   "source": [
    "\"이승우\""
   ]
  },
  {
   "cell_type": "markdown",
   "id": "3fe6ab38",
   "metadata": {},
   "source": [
    "- 연결자\n",
    "    - +연산자 : 문자열과 문자열의 **연결**, + 기준 양쪽에 둘다 문자열이 되어야 한다.\n",
    "    - , 연산자 : 어떠한 내용이 오더라도(자료형과 관련없이) 연결을 시켜준다. "
   ]
  },
  {
   "cell_type": "code",
   "execution_count": 5,
   "id": "b4ec7c1e",
   "metadata": {
    "scrolled": false
   },
   "outputs": [
    {
     "ename": "TypeError",
     "evalue": "can only concatenate str (not \"int\") to str",
     "output_type": "error",
     "traceback": [
      "\u001b[1;31m---------------------------------------------------------------------------\u001b[0m",
      "\u001b[1;31mTypeError\u001b[0m                                 Traceback (most recent call last)",
      "Input \u001b[1;32mIn [5]\u001b[0m, in \u001b[0;36m<cell line: 1>\u001b[1;34m()\u001b[0m\n\u001b[1;32m----> 1\u001b[0m \u001b[38;5;28mprint\u001b[39m(\u001b[38;5;124;43m\"\u001b[39;49m\u001b[38;5;124;43m7-8*5+10 = \u001b[39;49m\u001b[38;5;124;43m\"\u001b[39;49m\u001b[43m \u001b[49m\u001b[38;5;241;43m+\u001b[39;49m\u001b[43m \u001b[49m\u001b[38;5;241;43m7\u001b[39;49m\u001b[38;5;241m-\u001b[39m\u001b[38;5;241m8\u001b[39m\u001b[38;5;241m*\u001b[39m\u001b[38;5;241m5\u001b[39m\u001b[38;5;241m+\u001b[39m\u001b[38;5;241m10\u001b[39m)\n",
      "\u001b[1;31mTypeError\u001b[0m: can only concatenate str (not \"int\") to str"
     ]
    }
   ],
   "source": [
    "print(\"7-8*5+10 = \" + 7-8*5+10) #시작과 끝에 쌍따옴표가 있기 때문에 문자열로 생각할 수 있다. \n",
    "\n",
    "# + 수식과 + 연결자 구분해라 \n"
   ]
  },
  {
   "cell_type": "markdown",
   "id": "e6040099",
   "metadata": {},
   "source": [
    "- TypeError : can only concatenate str (not \"int\") to str : 문자열은 문자열로 합칠 수 있다.  \n",
    "정수를 문자열로 바꾸라는 의미"
   ]
  },
  {
   "cell_type": "code",
   "execution_count": 6,
   "id": "a223678f",
   "metadata": {},
   "outputs": [
    {
     "name": "stdout",
     "output_type": "stream",
     "text": [
      "7-8*5+10 = -23\n"
     ]
    }
   ],
   "source": [
    "print(\"7-8*5+10 = \" + str(7-8*5+10))\n",
    "#str()문자열로 자료형 변환 \n",
    "# +연결자는 양 옆에 무조건 문자열로 "
   ]
  },
  {
   "cell_type": "code",
   "execution_count": 8,
   "id": "47344145",
   "metadata": {},
   "outputs": [
    {
     "name": "stdout",
     "output_type": "stream",
     "text": [
      "내 나이는 20\n"
     ]
    }
   ],
   "source": [
    "print(\"내 나이는\", 20) # ,연결자는 양옆의 자료형이 어떤것이어도 상관없다.\n",
    "                       # 이부분은 시험에 무조건 나온다! "
   ]
  }
 ],
 "metadata": {
  "kernelspec": {
   "display_name": "Python 3 (ipykernel)",
   "language": "python",
   "name": "python3"
  },
  "language_info": {
   "codemirror_mode": {
    "name": "ipython",
    "version": 3
   },
   "file_extension": ".py",
   "mimetype": "text/x-python",
   "name": "python",
   "nbconvert_exporter": "python",
   "pygments_lexer": "ipython3",
   "version": "3.9.12"
  }
 },
 "nbformat": 4,
 "nbformat_minor": 5
}
