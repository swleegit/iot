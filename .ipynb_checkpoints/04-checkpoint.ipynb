{
 "cells": [
  {
   "cell_type": "markdown",
   "id": "41fd067f",
   "metadata": {},
   "source": [
    "귀도반 로썸 c언어 1991 초보자가 사용하기 쉽게"
   ]
  },
  {
   "cell_type": "markdown",
   "id": "f46500f4",
   "metadata": {},
   "source": [
    "# 파이썬 특징 \n",
    "- \n",
    "컴파일 방식 파일 전체를 기계어로 실행중에 기계어로 변형 \n",
    "\n",
    "컴파일 방식 \n",
    "하나의 파일, 여러개의 파일을 동시에 기계어로 번역 \n",
    "\n",
    "1. 무료\n",
    "- 외부 라이브러리 풍부\n",
    "- iot, bigdata, ai\n",
    "- gui\n",
    "1. 홈페이지와 관련된 framework을 제공한다. 홈페이지 관련 기반틀을 만들어 준다.\n",
    "1. 인터프리터 언어 \n",
    "1. 읽기 쉽고 쓰기 쉽다.(다른 언어에 비해서)\n",
    "1. 플랫폼(컴퓨터와 관련되어진 운영체제)의 특성을 타지 않는다. \n"
   ]
  },
  {
   "cell_type": "markdown",
   "id": "50b08a96",
   "metadata": {},
   "source": [
    "# 변수\n",
    "- 실행중에 변할 수 있는 수\n",
    "- 값을 담을 수 있는 그릇 \n",
    "- 주소 참조 값 참조\n",
    "- 어떠한 값을 지칭하고 있다.\n",
    "- 참조형 변수 : 어떠한 물건을 받을 수 있는 큰 주소\n",
    "- 변수 : 받는 사람 : 값 참조 , 특정을 꼭 집어서 \n",
    "- 택배를 생각하자. \n",
    "- 주소를 참조한다 : 참조형 변수 : 그 주소안에 모든 것들이 다포함된다. \n",
    "- 값을 참조한다 : 변수 또는 상수 "
   ]
  },
  {
   "cell_type": "markdown",
   "id": "562900e0",
   "metadata": {},
   "source": [
    "# 변수 작명법\n",
    "1. 의미 있는 단어의 조합 \n",
    "1. 한글, 영어(대, 소 구분), 영어 권장, 파일이름 또는 변수명이 한글이면 os별로 문제 발생 가능함 .\n",
    "1. 특수문자 사용 불가 (단, _ 가능)\n",
    "1. 숫자 사용 불가 (단, 첫자리만 사용불가)\n",
    "1. 공백 사용 불가\n",
    "1. 키워드(=예약어) 사용불가 \n",
    "\n",
    "- 변수 작명법은 개개인의 스타일이 있지만 '변수'는 앞 단어는 소문자로 시작하고 뒷 단어 첫글자는 대문자로 시작하는거 추천 .\n",
    "\n"
   ]
  },
  {
   "cell_type": "code",
   "execution_count": null,
   "id": "617a2cf1",
   "metadata": {},
   "outputs": [],
   "source": [
    "#정수형 변수 작명법 \n",
    "numV = 5\n",
    "numValue = 5\n",
    "numVal = 5 #단어 생략 ok"
   ]
  },
  {
   "cell_type": "code",
   "execution_count": null,
   "id": "115ce616",
   "metadata": {},
   "outputs": [],
   "source": [
    "#한국공학대학교 학과를 나타내는 변수 \n",
    "tukoreaMaj = \"Mechanical Engineering\""
   ]
  }
 ],
 "metadata": {
  "kernelspec": {
   "display_name": "Python 3 (ipykernel)",
   "language": "python",
   "name": "python3"
  },
  "language_info": {
   "codemirror_mode": {
    "name": "ipython",
    "version": 3
   },
   "file_extension": ".py",
   "mimetype": "text/x-python",
   "name": "python",
   "nbconvert_exporter": "python",
   "pygments_lexer": "ipython3",
   "version": "3.9.12"
  }
 },
 "nbformat": 4,
 "nbformat_minor": 5
}
