{
 "cells": [
  {
   "cell_type": "markdown",
   "id": "1cf487a9",
   "metadata": {},
   "source": [
    "# 주석\n",
    "- 프로그램 설명글 \n",
    "- 실행 속도에 영향을 미치지 않음. \n",
    "\n",
    "- 종류\n",
    "    - 1)한줄주석 : #  \n",
    "    #나온 이후의 내용에 대해서만 주석처리 , 엔터이후 불가\n",
    "    - 2)여러줄 주석  \n",
    "    기호 : '''   '''  \n",
    "           \"\"\"   \"\"\" 여러줄 주석내에 또다른 여러줄 주석을 쓰지말기  \n",
    "           cf)변수명 = ''' ''' : 주석이 아니라 여러줄을 가지는 값이 된다."
   ]
  },
  {
   "cell_type": "markdown",
   "id": "7c2bdded",
   "metadata": {},
   "source": [
    "# 문제2(나의 풀이)"
   ]
  },
  {
   "cell_type": "code",
   "execution_count": 8,
   "id": "32a6c49c",
   "metadata": {},
   "outputs": [
    {
     "name": "stdout",
     "output_type": "stream",
     "text": [
      "총 금액은 20000\n"
     ]
    }
   ],
   "source": [
    "\"\"\"동네 슈퍼마켓에서 아시크림 1개, 라면 3봉지, 과자 5봉지 및 빵 3봉지를 골랐다.\n",
    "총 금액은 얼마인가? (단, 변수 5개를 활용하여 작성)\n",
    "아이스크림 : 1000원, 라면 : 1500원, 과자 : 2000원, 빵 : 1500원\"\"\"\n",
    "\n",
    "ice = 1000 * 1 \n",
    "ram = 1500 * 3\n",
    "sna = 2000 * 5\n",
    "bre = 1500 * 3\n",
    "total = ice + ram + sna + bre\n",
    "print(\"총 금액은 %d\"%(total))"
   ]
  },
  {
   "cell_type": "markdown",
   "id": "e5b0d6af",
   "metadata": {},
   "source": [
    "# 문제2(교수님 풀이)"
   ]
  },
  {
   "cell_type": "code",
   "execution_count": null,
   "id": "e8c9bd45",
   "metadata": {},
   "outputs": [],
   "source": [
    "'''문제2) 라면, 과자, 빵, 아이스크림에 대하여\n",
    "가격 및 구매개수를 입력받아 계산하는 프로그램 작성'''\n",
    "\n",
    "#변수선언\n",
    "#물건의 가격 저장하는 변수(P : price)\n",
    "\n",
    "snackP = 0\n",
    "breadP = 0\n",
    "noodleP = 0\n",
    "iceP = 0\n",
    "\n",
    "#물건의 개수 저장하는 변수 (C : count)\n",
    "snackC = 0\n",
    "breadC = 0\n",
    "noodleC = 0\n",
    "iceC = 0\n",
    "\n",
    "#총 가격을 저장하는 변수\n",
    "totalP = 0\n",
    "\n",
    "snackP = int(input(\"과자 가격 입력: \")) #input은 반드시 저장할 변수가 있어야함.\n",
    "breadP = int(input(\"빵 가격 입력: \"))\n",
    "noodleP = int(input(\"라면 가격 입력: \"))\n",
    "iceP = int(input(\"아이스크림 가격 입력: \")) \n",
    "\n",
    "snackC = int(input(\"과자 개수 입력: \")) \n",
    "breadC = int(input(\"빵 개수 입력: \"))\n",
    "noodleC = int(input(\"라면 개수 입력: \"))\n",
    "iceC = int(input(\"아이스크림 개수 입력: \")) \n",
    "\n",
    "totalP = snackP * snackC + breadP * breadC + noodleP * noodleC + iceP * iceC\n",
    "\n",
    "print(totalP)"
   ]
  },
  {
   "cell_type": "markdown",
   "id": "c1330cb4",
   "metadata": {},
   "source": [
    "# 문제3(나의 풀이)"
   ]
  },
  {
   "cell_type": "code",
   "execution_count": 4,
   "id": "33875f35",
   "metadata": {},
   "outputs": [
    {
     "name": "stdout",
     "output_type": "stream",
     "text": [
      "각도(deg)를 입력하세요. >>>135\n",
      "입력받은 135 degree는 2.36 radian입니다.\n"
     ]
    }
   ],
   "source": [
    "pi = 3.14\n",
    "deg = float(input(\"각도(deg)를 입력하세요. >>>\"))\n",
    "rad = deg * (pi/180)\n",
    "print(\"입력받은 {0} degree는 {1:.2f} radian입니다.\".format(deg,rad))\n"
   ]
  },
  {
   "cell_type": "markdown",
   "id": "99593950",
   "metadata": {},
   "source": [
    "# 문제3(교수님 풀이)"
   ]
  },
  {
   "cell_type": "code",
   "execution_count": 10,
   "id": "b3ac8388",
   "metadata": {},
   "outputs": [
    {
     "name": "stdout",
     "output_type": "stream",
     "text": [
      "각도(실수)입력(단위 : deg)125.5\n",
      "입력한 각도 125.500000 이고, 계산한 라디안 : 2.189278 입니다.\n",
      "입력한 각도 : 125.5이고, 계산한 라디안 : 2.189277777777778입니다.\n",
      "입력한 각도 :  125.5 이고, 계산한 라디안 :  2.189277777777778 입니다.\n"
     ]
    }
   ],
   "source": [
    "\"\"\"각도를 입력받아 라디안으로 출력하는 프로그램을 작성\n",
    "각도 * (PI/180)\n",
    "입력 : input(\" 설명글 \") #입력할 내용에 대한 설명글\n",
    "       어떤 값을 입력해도 문자열로 인식한다.\n",
    "       int(input(\"설명글\")) : 입력값을 정수형태로\n",
    "       float(input(\"설명글\")) : 입력값을 실수형태로\n",
    "       입력받은 값이 어떤 자료형이어야 할지 먼저 판단\n",
    "       나오는 변수들은 위에 위치시킨다.\n",
    "       정수 : 0 실수 0.0 문자열 '' 이런식으로 나타낸다.\"\"\"\n",
    "\n",
    "\n",
    "#이렇게 변수를 위에 쓰면 헷갈리지 않는다.\n",
    "#변수에 대한 설명을 붙인다. \n",
    "\n",
    "degV = 0.0 # 각도를 입력받기 위한 변수\n",
    "radian = 0.0 # 계산한 라디안값을 저장하기 위한 변수\n",
    "\n",
    "#int인데 float들어오면 전환 안됨! \n",
    "degV = float(input(\"각도(실수)입력(단위 : deg)\")) #괄호로 시작되면 괄호로 끝나야한다. 문자열 따옴표 시작, 따옴표로 마무리\n",
    "radian = degV * (3.14 / 180) #오른쪽 항의 결과만 왼쪽에 대입한다.\n",
    "\n",
    "#print문자 중간에 서식문자가 있다면 따옴표가 끝나고 %가 반드시 따라 나와야한다.\n",
    "#서식문자 개수  = 뒤에 %(,)항의개수 \n",
    "print(\"입력한 각도 %f 이고, 계산한 라디안 : %f 입니다.\"%(degV, radian))\n",
    "\n",
    "\n",
    "#+는 문자열끼리만 가능함 \n",
    "print(\"입력한 각도 : \"+ str(degV) + \"이고, 계산한 라디안 : \" + str(radian) + \"입니다.\")\n",
    "\n",
    "#, 어떤 자료형 상관없음 ,를 하면 띄어쓰기가 된다.\n",
    "\n",
    "print(\"입력한 각도 : \",degV, \"이고, 계산한 라디안 : \", radian, \"입니다.\")\n",
    "\n"
   ]
  },
  {
   "cell_type": "markdown",
   "id": "251cfcb6",
   "metadata": {},
   "source": [
    "# 문제4(나의 풀이)"
   ]
  },
  {
   "cell_type": "code",
   "execution_count": 1,
   "id": "cc82be1f",
   "metadata": {},
   "outputs": [
    {
     "name": "stdout",
     "output_type": "stream",
     "text": [
      "높이(실수)를 입력하세요.(단위 : mm)>>>125.5\n",
      "반지름(실수)를 입력하세요.(단위 : mm)>>>30.5\n",
      "높이 125.500000(mm), 반지름 30.500000(mm)인 원기둥의 표면적 : 29880.240000(mm^2), 부피 : 366583.617500(mm^3)\n",
      "\n",
      "\n",
      "높이125.5(mm), 반지름30.5(mm)인 원기둥의 표면적 :29880.240000000005(mm^2), 부피 :366583.6175(mm^3)\n",
      "\n",
      "\n",
      "높이 125.5 (mm), 반지름 30.5 (mm)인 원기둥의 표면적 : 29880.240000000005 (mm^2), 부피 : 366583.6175 (mm^3)\n",
      "\n",
      "\n",
      "높이 125.5(mm), 반지름 30.5(mm)인 원기둥의 표면적 : 29880.240000000005(mm^2), 부피 : 366583.6175(mm^3)\n"
     ]
    }
   ],
   "source": [
    "''' 키보드로부터 원기둥의 높이와 반지름 값을 입력 받은 후 \n",
    "원기둥의 표면 부피(V)와 표면 면적(A)을 구하여 출력하는 프로그램을 작성하시오.'''\n",
    "\n",
    "pi = 3.14\n",
    "heiV  = 0.0 # 원기둥의 높이 입력값\n",
    "radV = 0.0 # 원기둥의 반지름 입력값\n",
    "bot_area = 0.0 # 원기둥의 밑면적 한개\n",
    "side_area = 0.0 # 원기둥의 옆면적\n",
    "sur_area = 0.0 # 원기둥의 전체 표면적 \n",
    "volume = 0.0 # 원기둥의 부피\n",
    "\n",
    "\n",
    "heiV = float(input(\"높이(실수)를 입력하세요.(단위 : mm)>>>\"))\n",
    "radV = float(input(\"반지름(실수)를 입력하세요.(단위 : mm)>>>\"))\n",
    "\n",
    "bot_area = pi * radV**2\n",
    "side_area = 2 * pi * radV * heiV\n",
    "sur_area = 2 * bot_area + side_area\n",
    "volume = bot_area * heiV\n",
    "\n",
    "print(\"높이 %f(mm), 반지름 %f(mm)인 원기둥의 표면적 : %f(mm^2), 부피 : %f(mm^3)\"%(heiV,radV,sur_area,volume))\n",
    "print(\"\\n\")\n",
    "print(\"높이\" + str(heiV) + \"(mm), 반지름\"+ str(radV) + \"(mm)인 원기둥의 표면적 :\" + str(sur_area) + \"(mm^2), 부피 :\" + str(volume) + \"(mm^3)\")\n",
    "print(\"\\n\")\n",
    "print(\"높이\", heiV, \"(mm), 반지름\", radV, \"(mm)인 원기둥의 표면적 :\", sur_area , \"(mm^2), 부피 :\", volume, \"(mm^3)\")\n",
    "print(\"\\n\")\n",
    "print(\"높이 {0}(mm), 반지름 {1}(mm)인 원기둥의 표면적 : {2}(mm^2), 부피 : {3}(mm^3)\".format(heiV,radV,sur_area,volume))\n"
   ]
  },
  {
   "cell_type": "markdown",
   "id": "e74c74fe",
   "metadata": {},
   "source": [
    "# 조건문 \n",
    "if(조건식/조건문)**:** 소괄호 입력 안해도 되지만, 짧아도 소괄호를 하자.  \n",
    "    실행문1  \n",
    "    실행문2  \n",
    "elif(조건식/조건문):  \n",
    "    실행문5  \n",
    "    실행문6\n",
    "else:\n",
    "    실행문3\n",
    "    실행문4  \n",
    "\n",
    "- if, elif, else는 왼쪽에서 같은 라인에 있어야한다.\n",
    "- 실행문끼리는 같은 들여쓰기(한칸을 띄우든 아니든 상관없음)가 되어야한다.\n",
    "\n",
    "\n",
    "- 파이썬 시작 : 항상 왼쪽 (**띄어쓰기x**) : 한칸이라도 띄우면 안된다.  \n",
    "조건문/반복문/함수에서 명과 실행문은 구분지어야 한다. 들여쓰기로 구분 \n",
    "\n",
    "- 한개의 if문에서 들여쓰기 두번은 안된다!. 들여쓰기를 한다는 것은 위의 명에 속하는 실행문이라는 의미임.\n",
    "\n"
   ]
  },
  {
   "cell_type": "code",
   "execution_count": 9,
   "id": "2746de73",
   "metadata": {},
   "outputs": [
    {
     "name": "stdout",
     "output_type": "stream",
     "text": [
      "6\n",
      "7\n"
     ]
    }
   ],
   "source": [
    "num = int(input(\"정수를 입력하세요 >>>\"))\n",
    "\n",
    "#if, elif, else : 조건 3개, short cut, elif, else는 필수 아님.\n",
    "#if, elif, else 묶음은 반드시 같은 왼쪽 정렬이어야한다.\n",
    "#조건문 안에 조건문이 있는게 아니라면 반드시 왼쪽에 띄어쓰기가 없어야한다. \n",
    "#명과 실행문은 반드시 들여쓰기로 구분해야함 (들여쓰기 또는 몇개의 뜨어쓰기 상관없음)\n",
    "#단 같은 명이면 해당 실행문은 반드시 같은 들여쓰기가 되어야한다.\n",
    "\n",
    "if num > 7 :\n",
    "    print(\"7보다 커요\")\n",
    "    print(\"good\")\n",
    "    \n",
    "elif num < 7 :\n",
    "    "
   ]
  },
  {
   "cell_type": "markdown",
   "id": "4711e6e2",
   "metadata": {},
   "source": [
    "# 자연어\n",
    "- 알아보기는 쉽지만 내용이 길어진다는 단점\n",
    "- 서술형과 개조식이 있음 \n",
    "\n",
    "- ex)10월 5일에 비가 오지 않는다면 축제를 실외(운동장)에서 진행하고  \n",
    "비가 온다면 실내(체육관)에서 진행한다.  \n",
    "단, 코로나 확산 여부에 따라서 마스크 방침을 변경할 수 있다.\n",
    "\n",
    "# 의사코드\n",
    "- 프로그램의 코드를 흉내내어 표현하는 방법\n",
    "- 자연어보다는 간결함.\n",
    "- python c c++ java 등 언어를 사용함 "
   ]
  },
  {
   "cell_type": "code",
   "execution_count": null,
   "id": "e9ed7902",
   "metadata": {},
   "outputs": [],
   "source": [
    "if (비 여부) :\n",
    "    실내(체육관)\n",
    "    \n",
    "    if (코로나 확산 여부) : #여기서 들여쓰기 하면 안된다. 그러면 실내(체육관)이 명이라는건데 말이 안됨 \n",
    "        마스크 착용         #그냥 if(비 여부)의 실행문임 비가 오든 안하든 체크를 하니까\n",
    "                            #들여쓰기로 명과 실행문을 짝지을 수 있다.\n",
    "    else:\n",
    "        마스크 미착용\n",
    "else:\n",
    "    실외(운동장)\n",
    "    \n",
    "    if (코로나 확산 여부) :\n",
    "        마스크 착용\n",
    "    else:\n",
    "        마스크 미착용"
   ]
  },
  {
   "cell_type": "markdown",
   "id": "f989d464",
   "metadata": {},
   "source": [
    "# 자연어 \n",
    "입력 숫자가 짝/홀 판별 "
   ]
  },
  {
   "cell_type": "code",
   "execution_count": 10,
   "id": "2f9e1ef4",
   "metadata": {},
   "outputs": [
    {
     "ename": "SyntaxError",
     "evalue": "invalid syntax (777391908.py, line 3)",
     "output_type": "error",
     "traceback": [
      "\u001b[1;36m  Input \u001b[1;32mIn [10]\u001b[1;36m\u001b[0m\n\u001b[1;33m    변수 = 값 입력 #이렇게 대강하고 프로그래밍 언어에 따라 구체화 하는 것\u001b[0m\n\u001b[1;37m           ^\u001b[0m\n\u001b[1;31mSyntaxError\u001b[0m\u001b[1;31m:\u001b[0m invalid syntax\n"
     ]
    }
   ],
   "source": [
    "#의사코드 : 프로그래밍 측면에서 작성 \n",
    "\n",
    "변수 = 값 입력 #이렇게 대강하고 프로그래밍 언어에 따라 구체화 하는 것 \n",
    "if(변수 % 2 == 0): #==으로 해야함\n",
    "    print(\"짝수\")\n",
    "else:\n",
    "    print(\"홀수\")\n"
   ]
  },
  {
   "cell_type": "code",
   "execution_count": null,
   "id": "0eac6200",
   "metadata": {},
   "outputs": [],
   "source": [
    "#변수 선언 \n",
    "numV = 0  #정수를 입력받기 위한 변수 \n",
    "numV = int(input(\"정수 입력 : \")) #괄호 개수 확인 \n",
    "\n",
    "if ( numV % 2 == 0 ):\n",
    "    print(\"짝수\")\n",
    "\n",
    "else:\n",
    "    print(\"홀수\")\n",
    "    \n",
    "#레포트\n",
    "#오늘 수업 들을 때 등교하는 순서가 있음 \n",
    "#화요일 iot 9시 30분 수업에 들어오는데 순서도(눈뜨는 순간 -> 도착)\n",
    "#교통편, 시간상황에 따라\n",
    "#한글 워드 파워포인트 필기구 작성 이미지로 작성 ok\n",
    "#다음주 월요일까지 이미지 추천 \n",
    "\n",
    "\n",
    "            "
   ]
  }
 ],
 "metadata": {
  "kernelspec": {
   "display_name": "Python 3 (ipykernel)",
   "language": "python",
   "name": "python3"
  },
  "language_info": {
   "codemirror_mode": {
    "name": "ipython",
    "version": 3
   },
   "file_extension": ".py",
   "mimetype": "text/x-python",
   "name": "python",
   "nbconvert_exporter": "python",
   "pygments_lexer": "ipython3",
   "version": "3.9.12"
  }
 },
 "nbformat": 4,
 "nbformat_minor": 5
}
